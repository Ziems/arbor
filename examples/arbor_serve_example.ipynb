{
 "cells": [
  {
   "cell_type": "code",
   "execution_count": 1,
   "metadata": {},
   "outputs": [
    {
     "name": "stderr",
     "output_type": "stream",
     "text": [
      "/home/noah.ziems/arbor/.conda/lib/python3.11/site-packages/tqdm/auto.py:21: TqdmWarning: IProgress not found. Please update jupyter and ipywidgets. See https://ipywidgets.readthedocs.io/en/stable/user_install.html\n",
      "  from .autonotebook import tqdm as notebook_tqdm\n"
     ]
    },
    {
     "name": "stdout",
     "output_type": "stream",
     "text": [
      "INFO 06-23 05:36:57 [__init__.py:243] Automatically detected platform cuda.\n"
     ]
    },
    {
     "name": "stderr",
     "output_type": "stream",
     "text": [
      "2025-06-23 05:36:59,562\tINFO util.py:154 -- Missing packages: ['ipywidgets']. Run `pip install -U ipywidgets`, then restart the notebook server for rich notebook output.\n"
     ]
    },
    {
     "name": "stdout",
     "output_type": "stream",
     "text": [
      "🌳 Starting Arbor server on http://0.0.0.0:7453...\n",
      "🌳 Waiting for server to be ready at http://0.0.0.0:7453...\n"
     ]
    },
    {
     "name": "stderr",
     "output_type": "stream",
     "text": [
      "INFO:     Started server process [2979534]\n",
      "INFO:     Waiting for application startup.\n",
      "   [API] - \u001b[32m[INFO]\u001b[0m - Application startup complete.\n",
      "   [API] - \u001b[32m[INFO]\u001b[0m - Uvicorn running on http://0.0.0.0:7453 (Press CTRL+C to quit)\n"
     ]
    },
    {
     "name": "stdout",
     "output_type": "stream",
     "text": [
      "🌳 Port 7453 is now open, checking health endpoint...\n",
      "   [API] - \u001b[32m[INFO]\u001b[0m - 127.0.0.1:40282 - \"GET /health/simple HTTP/1.1\" 200\n",
      "🌳 Server ready! Response: {'status': 'unhealthy', 'timestamp': '2025-06-23T05:37:00.233649'}\n",
      "🌳 Arbor server is ready and accepting requests!\n"
     ]
    }
   ],
   "source": [
    "\n",
    "import arbor\n",
    "\n",
    "arbor.serve(storage_path=\"/home/noah.ziems/.arbor/storage\", inference_gpus=\"2\", training_gpus=\"3\")"
   ]
  },
  {
   "cell_type": "code",
   "execution_count": 2,
   "metadata": {},
   "outputs": [
    {
     "name": "stdout",
     "output_type": "stream",
     "text": [
      "Server is running\n"
     ]
    }
   ],
   "source": [
    "if arbor.is_running():\n",
    "    print(\"Server is running\")\n",
    "else:\n",
    "    print(\"Server is not running\")"
   ]
  },
  {
   "cell_type": "code",
   "execution_count": 4,
   "metadata": {},
   "outputs": [
    {
     "name": "stderr",
     "output_type": "stream",
     "text": [
      "   [API] - \u001b[32m[INFO]\u001b[0m - Shutting down\n",
      "   [API] - \u001b[32m[INFO]\u001b[0m - Waiting for application shutdown.\n",
      "   [API] - \u001b[32m[INFO]\u001b[0m - Application shutdown complete.\n"
     ]
    },
    {
     "name": "stdout",
     "output_type": "stream",
     "text": [
      "🌳 Stopping Arbor server...\n",
      "🌳 Arbor server stopped.\n",
      "Server is not running\n"
     ]
    }
   ],
   "source": [
    "# Stop when done\n",
    "arbor.stop()\n",
    "\n",
    "if arbor.is_running():\n",
    "    print(\"Server is running\")\n",
    "else:\n",
    "    print(\"Server is not running\")"
   ]
  }
 ],
 "metadata": {
  "kernelspec": {
   "display_name": "Python 3",
   "language": "python",
   "name": "python3"
  },
  "language_info": {
   "codemirror_mode": {
    "name": "ipython",
    "version": 3
   },
   "file_extension": ".py",
   "mimetype": "text/x-python",
   "name": "python",
   "nbconvert_exporter": "python",
   "pygments_lexer": "ipython3",
   "version": "3.11.11"
  }
 },
 "nbformat": 4,
 "nbformat_minor": 2
}
