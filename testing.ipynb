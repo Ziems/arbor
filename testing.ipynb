{
 "cells": [
  {
   "cell_type": "code",
   "execution_count": 19,
   "metadata": {},
   "outputs": [
    {
     "name": "stdout",
     "output_type": "stream",
     "text": [
      "200\n",
      "3db141ce-b157-4002-9d60-3ddc28715070\n"
     ]
    }
   ],
   "source": [
    "import requests\n",
    "import json\n",
    "\n",
    "def upload_file(file_path, url='http://127.0.0.1:8000/api/files'):\n",
    "    \"\"\"\n",
    "    Upload a file to the specified URL endpoint.\n",
    "\n",
    "    Args:\n",
    "        file_path (str): Path to the file to be uploaded\n",
    "        url (str): URL endpoint for file upload (default: http://127.0.0.1:8000/api/files)\n",
    "\n",
    "    Returns:\n",
    "        requests.Response: Response from the server\n",
    "    \"\"\"\n",
    "    with open(file_path, 'rb') as file:\n",
    "        files = {'file': file}\n",
    "        response = requests.post(url, files=files)\n",
    "    return response\n",
    "\n",
    "# Example usage:\n",
    "response = upload_file('./training_data_sft.jsonl')\n",
    "print(response.status_code)  # Print the HTTP status code\n",
    "response_body = json.loads(response.text)\n",
    "uploaded_file = response_body[\"id\"]\n",
    "print(uploaded_file)\n"
   ]
  },
  {
   "cell_type": "code",
   "execution_count": 20,
   "metadata": {},
   "outputs": [
    {
     "name": "stdout",
     "output_type": "stream",
     "text": [
      "200\n",
      "{\"job_id\":\"87a14e7d-3312-4be2-ba3c-e1ddc7e6db02\",\"status\":\"queued\",\"details\":\"\"}\n"
     ]
    }
   ],
   "source": [
    "#\"HuggingFaceTB/SmolLM2-135M-Instruct\"\n",
    "#\"Qwen/Qwen2-0.5B-Instruct\"\n",
    "def start_fine_tune(training_file, model_name=\"HuggingFaceTB/SmolLM2-135M-Instruct\", url='http://127.0.0.1:8000/api/fine-tune'):\n",
    "    \"\"\"\n",
    "    Start a fine-tuning job with the specified training file and model.\n",
    "\n",
    "    Args:\n",
    "        training_file (str): ID of the uploaded training file\n",
    "        model_name (str): Name of the base model to fine-tune (default: Qwen/Qwen2-0.5B-Instruct)\n",
    "        url (str): URL endpoint for fine-tuning (default: http://127.0.0.1:8000/api/fine-tune)\n",
    "\n",
    "    Returns:\n",
    "        requests.Response: Response from the server\n",
    "    \"\"\"\n",
    "    headers = {'Content-Type': 'application/json'}\n",
    "    data = {\n",
    "        'model_name': model_name,\n",
    "        'training_file': training_file\n",
    "    }\n",
    "    response = requests.post(url, headers=headers, json=data)\n",
    "    return response\n",
    "\n",
    "# Example usage (continuing from previous upload):\n",
    "fine_tune_response = start_fine_tune(uploaded_file)\n",
    "print(fine_tune_response.status_code)\n",
    "print(fine_tune_response.text)"
   ]
  },
  {
   "cell_type": "code",
   "execution_count": 22,
   "metadata": {},
   "outputs": [
    {
     "name": "stdout",
     "output_type": "stream",
     "text": [
      "200\n",
      "{\"job_id\":\"87a14e7d-3312-4be2-ba3c-e1ddc7e6db02\",\"status\":\"completed\",\"details\":\"\"}\n"
     ]
    }
   ],
   "source": [
    "def check_job_status(job_id, url_base='http://127.0.0.1:8000/api/job'):\n",
    "    \"\"\"\n",
    "    Check the status of a fine-tuning job.\n",
    "\n",
    "    Args:\n",
    "        job_id (str): ID of the fine-tuning job\n",
    "        url_base (str): Base URL for job status endpoint (default: http://127.0.0.1:8000/api/job)\n",
    "\n",
    "    Returns:\n",
    "        requests.Response: Response from the server\n",
    "    \"\"\"\n",
    "    url = f\"{url_base}/{job_id}\"\n",
    "    response = requests.get(url)\n",
    "    return response\n",
    "\n",
    "# Example usage (continuing from previous fine-tune):\n",
    "job_response = check_job_status(fine_tune_response.json()[\"job_id\"])\n",
    "print(job_response.status_code)\n",
    "print(job_response.text)"
   ]
  },
  {
   "cell_type": "code",
   "execution_count": null,
   "metadata": {},
   "outputs": [],
   "source": []
  }
 ],
 "metadata": {
  "kernelspec": {
   "display_name": "Python 3",
   "language": "python",
   "name": "python3"
  },
  "language_info": {
   "codemirror_mode": {
    "name": "ipython",
    "version": 3
   },
   "file_extension": ".py",
   "mimetype": "text/x-python",
   "name": "python",
   "nbconvert_exporter": "python",
   "pygments_lexer": "ipython3",
   "version": "3.13.0"
  }
 },
 "nbformat": 4,
 "nbformat_minor": 2
}
