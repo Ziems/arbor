{
 "cells": [
  {
   "cell_type": "code",
   "execution_count": null,
   "metadata": {},
   "outputs": [
    {
     "name": "stdout",
     "output_type": "stream",
     "text": [
      "200\n",
      "{'id': 'ef1b1eb5-be05-4783-a412-dc2e36afaba2', 'object': 'file', 'bytes': 1227, 'created_at': 1741705972, 'filename': 'training_data_sft.jsonl', 'purpose': 'training'}\n"
     ]
    }
   ],
   "source": [
    "import requests\n",
    "import json\n",
    "\n",
    "def upload_file(file_path, url='http://127.0.0.1:8000/v1/files'):\n",
    "    \"\"\"\n",
    "    Upload a file to the specified URL endpoint.\n",
    "\n",
    "    Args:\n",
    "        file_path (str): Path to the file to be uploaded\n",
    "        url (str): URL endpoint for file upload (default: http://127.0.0.1:8000/v1/files)\n",
    "\n",
    "    Returns:\n",
    "        requests.Response: Response from the server\n",
    "    \"\"\"\n",
    "    with open(file_path, 'rb') as file:\n",
    "        files = {'file': file}\n",
    "        response = requests.post(url, files=files)\n",
    "    return response\n",
    "\n",
    "# Example usage:\n",
    "# response = upload_file('./training_data_sft.jsonl')\n",
    "response = upload_file('tests/data/training_data_sft.jsonl')\n",
    "print(response.status_code)  # Print the HTTP status code\n",
    "response_body = json.loads(response.text)\n",
    "uploaded_file = response_body[\"id\"]\n",
    "print(response_body)\n"
   ]
  },
  {
   "cell_type": "code",
   "execution_count": 7,
   "metadata": {},
   "outputs": [
    {
     "name": "stdout",
     "output_type": "stream",
     "text": [
      "500\n",
      "Internal Server Error\n"
     ]
    }
   ],
   "source": [
    "#\"HuggingFaceTB/SmolLM2-135M-Instruct\"\n",
    "#\"Qwen/Qwen2-0.5B-Instruct\"\n",
    "def start_fine_tune(training_file, model_name=\"HuggingFaceTB/SmolLM2-135M-Instruct\", url='http://127.0.0.1:8000/v1/fine_tuning/jobs'):\n",
    "    \"\"\"\n",
    "    Start a fine-tuning job with the specified training file and model.\n",
    "\n",
    "    Args:\n",
    "        training_file (str): ID of the uploaded training file\n",
    "        model_name (str): Name of the base model to fine-tune (default: Qwen/Qwen2-0.5B-Instruct)\n",
    "        url (str): URL endpoint for fine-tuning (default: http://127.0.0.1:8000/v1/fine_tuning/jobs)\n",
    "\n",
    "    Returns:\n",
    "        requests.Response: Response from the server\n",
    "    \"\"\"\n",
    "    headers = {'Content-Type': 'application/json'}\n",
    "    data = {\n",
    "        'model': model_name,\n",
    "        'training_file': training_file\n",
    "    }\n",
    "    response = requests.post(url, headers=headers, json=data)\n",
    "    return response\n",
    "\n",
    "# Example usage (continuing from previous upload):\n",
    "fine_tune_response = start_fine_tune(uploaded_file)\n",
    "print(fine_tune_response.status_code)\n",
    "print(fine_tune_response.text)"
   ]
  },
  {
   "cell_type": "code",
   "execution_count": 6,
   "metadata": {},
   "outputs": [
    {
     "name": "stdout",
     "output_type": "stream",
     "text": [
      "200\n",
      "{\"id\":\"bdcc5b2f-b46c-41be-a00c-3671793700f6\",\"status\":\"succeeded\",\"details\":\"\",\"fine_tuned_model\":\"/home/noah/Code/OSS/arbor/storage/models/ft:smollm2-135m-instruct:inhvr6:20250311_111457\"}\n"
     ]
    }
   ],
   "source": [
    "def check_job_status(job_id, url_base='http://127.0.0.1:8000/v1/fine_tuning/jobs'):\n",
    "    \"\"\"\n",
    "    Check the status of a fine-tuning job.\n",
    "\n",
    "    Args:\n",
    "        job_id (str): ID of the fine-tuning job\n",
    "        url_base (str): Base URL for job status endpoint (default: http://127.0.0.1:8000/v1/fine_tuning/jobs)\n",
    "\n",
    "    Returns:\n",
    "        requests.Response: Response from the server\n",
    "    \"\"\"\n",
    "    url = f\"{url_base}/{job_id}\"\n",
    "    response = requests.get(url)\n",
    "    return response\n",
    "\n",
    "# Example usage (continuing from previous fine-tune):\n",
    "job_response = check_job_status(fine_tune_response.json()[\"id\"])\n",
    "print(job_response.status_code)\n",
    "print(job_response.text)"
   ]
  },
  {
   "cell_type": "code",
   "execution_count": 58,
   "metadata": {},
   "outputs": [],
   "source": [
    "def load_model(model_path, device=None):\n",
    "    \"\"\"\n",
    "    Load a fine-tuned model from HuggingFace.\n",
    "\n",
    "    Args:\n",
    "        job_response: Response from check_job_status() containing model path\n",
    "        device: Device to load model on (default: None, will use CUDA if available)\n",
    "\n",
    "    Returns:\n",
    "        tuple: (model, tokenizer) loaded from the fine-tuned path\n",
    "    \"\"\"\n",
    "    import torch\n",
    "    from transformers import AutoModelForCausalLM, AutoTokenizer\n",
    "\n",
    "    if device is None:\n",
    "        device = \"cuda\" if torch.cuda.is_available() else \"cpu\"\n",
    "\n",
    "    # if not model_path:\n",
    "        # raise ValueError(\"No fine-tuned model path found in job response\")\n",
    "\n",
    "    model = AutoModelForCausalLM.from_pretrained(\n",
    "        model_path,\n",
    "        device_map=device,\n",
    "        torch_dtype=torch.float16\n",
    "    )\n",
    "    tokenizer = AutoTokenizer.from_pretrained(model_path)\n",
    "\n",
    "    return model, tokenizer\n",
    "\n",
    "# Example usage (continuing from previous job check):\n",
    "model, tokenizer = load_model(job_response.json()['fine_tuned_model'])\n"
   ]
  },
  {
   "cell_type": "code",
   "execution_count": 3,
   "metadata": {},
   "outputs": [],
   "source": [
    "from openai import OpenAI\n",
    "\n",
    "client = OpenAI(\n",
    "    base_url=\"http://127.0.0.1:8000/v1\",  # Using Arbor server\n",
    "    api_key=\"not-needed\"  # If you're using a local server, you dont need an API key\n",
    ")"
   ]
  },
  {
   "cell_type": "code",
   "execution_count": 11,
   "metadata": {},
   "outputs": [
    {
     "data": {
      "text/plain": [
       "FileObject(id='file-06281957-4f3d-4579-9cc6-c014c88eb6a2', bytes=1227, created_at=1742251912, filename='training_data_sft.jsonl', object='file', purpose='training', status=None, expires_at=None, status_details=None)"
      ]
     },
     "execution_count": 11,
     "metadata": {},
     "output_type": "execute_result"
    }
   ],
   "source": [
    "data_file = 'tests/data/training_data_sft.jsonl'#'./training_data_sft.jsonl'\n",
    "file = client.files.create(\n",
    "  file=open(data_file, \"rb\"),\n",
    "  purpose=\"fine-tune\"\n",
    ")\n",
    "file"
   ]
  },
  {
   "cell_type": "code",
   "execution_count": 12,
   "metadata": {},
   "outputs": [
    {
     "data": {
      "text/plain": [
       "FineTuningJob(id='ftjob-a890525c-281e-4c64-b384-666ea0345722', created_at=None, error=None, fine_tuned_model=None, finished_at=None, hyperparameters=None, model=None, object='fine_tuning.job', organization_id=None, result_files=None, seed=None, status='queued', trained_tokens=None, training_file=None, validation_file=None, estimated_finish=None, integrations=None, metadata=None, method=None)"
      ]
     },
     "execution_count": 12,
     "metadata": {},
     "output_type": "execute_result"
    }
   ],
   "source": [
    "job = client.fine_tuning.jobs.create(\n",
    "  training_file=file.id,\n",
    "  model=\"HuggingFaceTB/SmolLM2-135M-Instruct\"\n",
    ")\n",
    "job"
   ]
  },
  {
   "cell_type": "code",
   "execution_count": 13,
   "metadata": {},
   "outputs": [
    {
     "name": "stdout",
     "output_type": "stream",
     "text": [
      "Job status: succeeded\n",
      "Fine-tuned model: /home/noah/Code/OSS/arbor/storage/models/ft:smollm2-135m-instruct:Wz3blF:20250317_185154\n"
     ]
    }
   ],
   "source": [
    "job_update = client.fine_tuning.jobs.retrieve(job.id)\n",
    "print(f\"Job status: {job_update.status}\")\n",
    "print(f\"Fine-tuned model: {job_update.fine_tuned_model}\")\n"
   ]
  },
  {
   "cell_type": "code",
   "execution_count": 6,
   "metadata": {},
   "outputs": [
    {
     "name": "stdout",
     "output_type": "stream",
     "text": [
      "The capital of the moon is New York City. The moon (in the planetarium) is located in the New York Astrodome.\n"
     ]
    }
   ],
   "source": [
    "completion = client.chat.completions.create(\n",
    "  model=\"storage/models/ft:smollm2-135m-instruct:YgYqX9:20250312_114354\",\n",
    "  # model=\"Qwen/Qwen2-0.5B-Instruct\",\n",
    "  messages=[\n",
    "    {\"role\": \"system\", \"content\": \"You are a helpful assistant.\"},\n",
    "    {\"role\": \"user\", \"content\": \"Hi! What is the capital of the moon?\"},\n",
    "  ]\n",
    ")\n",
    "\n",
    "print(completion.choices[0].message.content)"
   ]
  },
  {
   "cell_type": "code",
   "execution_count": null,
   "metadata": {},
   "outputs": [],
   "source": []
  }
 ],
 "metadata": {
  "kernelspec": {
   "display_name": "Python 3",
   "language": "python",
   "name": "python3"
  },
  "language_info": {
   "codemirror_mode": {
    "name": "ipython",
    "version": 3
   },
   "file_extension": ".py",
   "mimetype": "text/x-python",
   "name": "python",
   "nbconvert_exporter": "python",
   "pygments_lexer": "ipython3",
   "version": "3.13.0"
  }
 },
 "nbformat": 4,
 "nbformat_minor": 2
}
